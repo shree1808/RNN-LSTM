{
  "nbformat": 4,
  "nbformat_minor": 0,
  "metadata": {
    "colab": {
      "provenance": []
    },
    "kernelspec": {
      "name": "python3",
      "display_name": "Python 3"
    },
    "language_info": {
      "name": "python"
    }
  },
  "cells": [
    {
      "cell_type": "code",
      "source": [
        "# Importing the data (stock data)\n",
        "\n",
        "# Processing the data -> 3d arr -> (samples, timesteps, features)\n",
        "# >> Normalize - Using StandardScaler / MinMaxScaler - (-1,1) or (0,1)\n",
        "# we need to create sequences (,,)\n",
        "\n",
        "# Creating the LSTM model and make predictions\n",
        "# >> inverse scaling to make predictions (to bring data into original form)\n",
        "\n",
        "# Evaluate the data for the n_timesteps\n",
        "# Determine the predictions for the next 30 days."
      ],
      "metadata": {
        "id": "zafB6_Wyp_HG"
      },
      "execution_count": null,
      "outputs": []
    },
    {
      "cell_type": "code",
      "execution_count": null,
      "metadata": {
        "id": "soIwdjXAnpAO"
      },
      "outputs": [],
      "source": [
        "import tensorflow as tf\n",
        "from tensorflow.keras.models import Model\n",
        "from tensorflow.keras.layers import Dense, LSTM, Dropout"
      ]
    },
    {
      "cell_type": "code",
      "source": [
        "import pandas_datareader as pdr\n",
        "\n",
        "# get a key\n",
        "# Select a stock brand\n",
        "# Import based on the number of requests available"
      ],
      "metadata": {
        "id": "xJ1-Rq5XprzY"
      },
      "execution_count": null,
      "outputs": []
    },
    {
      "cell_type": "code",
      "source": [
        "# work with sample dataset first\n",
        "data = [100.5, 102.3, 101.8, 103.0, 104.5, 105.2, 104.8, 106.3, 107.1, 108.0]"
      ],
      "metadata": {
        "id": "N-oo2JkSsuDl"
      },
      "execution_count": null,
      "outputs": []
    },
    {
      "cell_type": "code",
      "source": [
        "# reshaping the sequence\n",
        "import numpy as np\n",
        "data = np.array(data)\n",
        "df= data.reshape(-1, 1)\n",
        "df"
      ],
      "metadata": {
        "colab": {
          "base_uri": "https://localhost:8080/"
        },
        "id": "NVNvmZEQtfWR",
        "outputId": "60db8f10-f2c8-493e-fe1b-3d5222e5e9b0"
      },
      "execution_count": null,
      "outputs": [
        {
          "output_type": "execute_result",
          "data": {
            "text/plain": [
              "array([[100.5],\n",
              "       [102.3],\n",
              "       [101.8],\n",
              "       [103. ],\n",
              "       [104.5],\n",
              "       [105.2],\n",
              "       [104.8],\n",
              "       [106.3],\n",
              "       [107.1],\n",
              "       [108. ]])"
            ]
          },
          "metadata": {},
          "execution_count": 8
        }
      ]
    },
    {
      "cell_type": "code",
      "source": [],
      "metadata": {
        "id": "m6jaTKty04nC"
      },
      "execution_count": null,
      "outputs": []
    }
  ]
}